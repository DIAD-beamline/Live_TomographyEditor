{
 "cells": [
  {
   "cell_type": "markdown",
   "id": "63f5a590-0715-4b30-998b-af0ed6a63c17",
   "metadata": {},
   "source": [
    "# Synchrotron Data Visualisation Tool\n",
    "\n",
    "This notebook helps you visualise your synchrotron data.\n",
    "\n",
    "## Setup\n",
    "First, we'll import the necessary packages. Run each cell by pressing Shift+Enter."
   ]
  },
  {
   "cell_type": "code",
   "execution_count": 2,
   "id": "020a7de7-b6d8-428f-88f4-58599b53224e",
   "metadata": {},
   "outputs": [],
   "source": [
    "from data_loader import NXSDataLoader\n",
    "import sys\n",
    "sys.path.append(\"./stackview\")  \n",
    "import stackview"
   ]
  },
  {
   "cell_type": "markdown",
   "id": "57cb29f6-6b7b-4649-bac9-282c6291b673",
   "metadata": {},
   "source": [
    "## Load Your Data\n",
    "In the cell below, update the `visit_number` and `year` variables with your details."
   ]
  },
  {
   "cell_type": "code",
   "execution_count": 11,
   "id": "333cb710-5c4a-4bbc-918b-cc20bc72b868",
   "metadata": {},
   "outputs": [
    {
     "data": {
      "application/vnd.jupyter.widget-view+json": {
       "model_id": "1f535c11d3ad43a5be826fc9e7e02e0a",
       "version_major": 2,
       "version_minor": 0
      },
      "text/plain": [
       "VBox(children=(HTML(value='<b>Nexus Path:</b> /dls/k11/data/2025/mg34010-1/nexus', layout=Layout(width='800px'…"
      ]
     },
     "metadata": {},
     "output_type": "display_data"
    }
   ],
   "source": [
    "visit_number = 'mg34010-1'\n",
    "year = '2025'\n",
    "\n",
    "browser = NXSDataLoader(visit_number, year)"
   ]
  },
  {
   "cell_type": "markdown",
   "id": "4ec2d71d-f837-48e5-9013-0633a3c35e79",
   "metadata": {},
   "source": [
    "## Visualise Projections\n",
    "Once your data is loaded run the cell below to launch the interactive viewer. You can:\n",
    "- Navigate through projections using the Slice slider\n",
    "- Adjust contrast using the Max and Min sliders"
   ]
  },
  {
   "cell_type": "code",
   "execution_count": 15,
   "id": "6dc94d8d-cf70-4479-a6e9-c995cf6318fb",
   "metadata": {},
   "outputs": [
    {
     "data": {
      "application/vnd.jupyter.widget-view+json": {
       "model_id": "65cb8cb99a7840c5a2ab2c14f1e93e22",
       "version_major": 2,
       "version_minor": 0
      },
      "text/plain": [
       "HBox(children=(VBox(children=(VBox(children=(HBox(children=(VBox(children=(ImageWidget(height=648, width=768),…"
      ]
     },
     "execution_count": 15,
     "metadata": {},
     "output_type": "execute_result"
    }
   ],
   "source": [
    "stackview.viewer(data, continuous_update=True, zoom_factor=0.6)"
   ]
  },
  {
   "cell_type": "code",
   "execution_count": null,
   "id": "52e31d73-bd86-48d7-aa73-cb319acc464b",
   "metadata": {},
   "outputs": [],
   "source": []
  }
 ],
 "metadata": {
  "kernelspec": {
   "display_name": "Python 3 (ipykernel)",
   "language": "python",
   "name": "python3"
  },
  "language_info": {
   "codemirror_mode": {
    "name": "ipython",
    "version": 3
   },
   "file_extension": ".py",
   "mimetype": "text/x-python",
   "name": "python",
   "nbconvert_exporter": "python",
   "pygments_lexer": "ipython3",
   "version": "3.10.12"
  }
 },
 "nbformat": 4,
 "nbformat_minor": 5
}
