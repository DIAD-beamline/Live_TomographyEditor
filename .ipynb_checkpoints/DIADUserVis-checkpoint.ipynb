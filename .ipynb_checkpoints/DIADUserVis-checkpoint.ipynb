{
 "cells": [
  {
   "cell_type": "markdown",
   "id": "63f5a590-0715-4b30-998b-af0ed6a63c17",
   "metadata": {},
   "source": [
    "# Synchrotron Data Visualisation Tool\n",
    "\n",
    "This notebook helps you visualise your synchrotron data.\n",
    "\n",
    "## Setup\n",
    "First, we'll import the necessary packages. Run each cell by pressing Shift+Enter."
   ]
  },
  {
   "cell_type": "code",
   "execution_count": 1,
   "id": "020a7de7-b6d8-428f-88f4-58599b53224e",
   "metadata": {},
   "outputs": [],
   "source": [
    "import os\n",
    "import glob\n",
    "import h5py\n",
    "import yaml\n",
    "import httomo\n",
    "import numpy as np\n",
    "from data_loader import NXSDataLoader\n",
    "import sys\n",
    "sys.path.append(\"./stackview\")\n",
    "import stackview\n",
    "sys.path.append(\"./yaml_editor\") \n",
    "from yaml_editor_class import YAML_Editor\n",
    "sys.path.append(\"./tomo_view\") \n",
    "from tomo_view_class import TomographyReconstruction \n",
    "\n",
    "import subprocess\n",
    "import shutil"
   ]
  },
  {
   "cell_type": "markdown",
   "id": "57cb29f6-6b7b-4649-bac9-282c6291b673",
   "metadata": {},
   "source": [
    "## Load Your Data\n",
    "In the cell below, update the `visit_number` and `year` variables with your details."
   ]
  },
  {
   "cell_type": "code",
   "execution_count": 2,
   "id": "333cb710-5c4a-4bbc-918b-cc20bc72b868",
   "metadata": {},
   "outputs": [
    {
     "data": {
      "application/vnd.jupyter.widget-view+json": {
       "model_id": "43bf6b05778b4e10b34b59d86a89cbb5",
       "version_major": 2,
       "version_minor": 0
      },
      "text/plain": [
       "VBox(children=(HTML(value='<b>Nexus Path:</b> /dls/k11/data/2025/cm40627-1/nexus', layout=Layout(width='800px'…"
      ]
     },
     "metadata": {},
     "output_type": "display_data"
    }
   ],
   "source": [
    "visit_number = 'cm40627-1'\n",
    "year = '2025'\n",
    "\n",
    "browser = NXSDataLoader(visit_number, year)"
   ]
  },
  {
   "cell_type": "markdown",
   "id": "4ec2d71d-f837-48e5-9013-0633a3c35e79",
   "metadata": {},
   "source": [
    "## Visualise Projections\n",
    "Once your data is loaded run the cell below to launch the interactive viewer. You can:\n",
    "- Navigate through projections using the Slice slider\n",
    "- Adjust contrast using the Max and Min sliders"
   ]
  },
  {
   "cell_type": "code",
   "execution_count": 3,
   "id": "6dc94d8d-cf70-4479-a6e9-c995cf6318fb",
   "metadata": {},
   "outputs": [
    {
     "data": {
      "application/vnd.jupyter.widget-view+json": {
       "model_id": "b38c278fc0ff49038a1cd4805558f6f5",
       "version_major": 2,
       "version_minor": 0
      },
      "text/plain": [
       "HBox(children=(VBox(children=(VBox(children=(HBox(children=(VBox(children=(ImageWidget(height=648, width=768),…"
      ]
     },
     "execution_count": 3,
     "metadata": {},
     "output_type": "execute_result"
    }
   ],
   "source": [
    "stackview.viewer(browser.current_data, continuous_update=True, zoom_factor=1.2)"
   ]
  },
  {
   "cell_type": "code",
   "execution_count": 4,
   "id": "52e31d73-bd86-48d7-aa73-cb319acc464b",
   "metadata": {},
   "outputs": [
    {
     "data": {
      "application/vnd.jupyter.widget-view+json": {
       "model_id": "badc3943605149d1ba5b1cd160c776dd",
       "version_major": 2,
       "version_minor": 0
      },
      "text/plain": [
       "VBox(children=(FileChooser(path='/dls/k11/data/2025/cm40627-1/xml/tomography/configurations/HTTomo', filename=…"
      ]
     },
     "metadata": {},
     "output_type": "display_data"
    }
   ],
   "source": [
    "editor = YAML_Editor(\"/dls/k11/data/\" + year + \"/\" + visit_number + \"/xml/tomography/configurations/HTTomo\")\n",
    "editor.Editor()"
   ]
  },
  {
   "cell_type": "code",
   "execution_count": 5,
   "id": "130db547-e277-45a5-a71b-9e39866f0db0",
   "metadata": {},
   "outputs": [
    {
     "name": "stdout",
     "output_type": "stream",
     "text": [
      "/dls/k11/data/2025/cm40627-1/nexus/k11-53999.nxs\n",
      "/dls/k11/data/2025/cm40627-1/xml/tomography/configurations/HTTomo/DIAD_VO_RS_FBP.yaml\n",
      "[{'method': 'standard_tomo', 'module_path': 'httomo.data.hdf.loaders', 'parameters': {'data_path': '/entry/imaging/data', 'image_key_path': '/entry/instrument/imaging/image_key', 'rotation_angles': {'data_path': '/entry/imaging_sum/gts_cs_theta'}}}, {'id': 'centering', 'method': 'find_center_vo', 'module_path': 'httomolibgpu.recon.rotation', 'parameters': {'drop': 20, 'ind': 'mid', 'ratio': 0.5, 'smax': 50, 'smin': -50, 'srad': 6, 'step': 0.25}, 'side_outputs': {'cor': 'centre_of_rotation'}}, {'method': 'remove_outlier', 'module_path': 'httomolibgpu.misc.corr', 'parameters': {'dif': 0.1, 'kernel_size': 3}}, {'method': 'normalize', 'module_path': 'httomolibgpu.prep.normalize', 'parameters': {'cutoff': 10.0, 'minus_log': True, 'nonnegativity': False, 'remove_nans': False}}, {'method': 'remove_stripe_based_sorting', 'module_path': 'httomolibgpu.prep.stripe', 'parameters': {'dim': 1, 'size': 11}}, {'method': 'FBP', 'module_path': 'httomolibgpu.recon.algorithm', 'parameters': {'center': '${{centering.side_outputs.centre_of_rotation}}', 'filter_freq_cutoff': 0.6, 'recon_mask_radius': None, 'recon_size': None}, 'save_result': True}, {'id': 'statistics', 'method': 'calculate_stats', 'module_path': 'httomo.methods', 'parameters': {}, 'side_outputs': {'glob_stats': 'glob_stats'}}, {'method': 'rescale_to_int', 'module_path': 'httomolibgpu.misc.rescale', 'parameters': {'bits': 8, 'glob_stats': '${{statistics.side_outputs.glob_stats}}', 'perc_range_max': 99, 'perc_range_min': 1}}, {'method': 'save_to_images', 'module_path': 'httomolib.misc.images', 'parameters': {'axis': 'auto', 'file_format': 'tif', 'subfolder_name': 'images'}}]\n"
     ]
    }
   ],
   "source": [
    "print(browser.filepath)\n",
    "print(editor.save_path)\n",
    "print(editor.current_data)"
   ]
  },
  {
   "cell_type": "code",
   "execution_count": 6,
   "id": "0902ebc2-23a7-4ca0-b80a-6db402512b71",
   "metadata": {},
   "outputs": [
    {
     "name": "stdout",
     "output_type": "stream",
     "text": [
      "Destination Folder Output: \n",
      "Destination Folder Error: \n",
      "HtTomo Output: \t OpenMPI (4.1.6) environment set up (x86_64 bit version)\n",
      "\n",
      "Mamba will cache packages in /scratch/30day_tmp/cxh52226/.conda/pkgs\n",
      "\n",
      "\t\t  *********************************************\n",
      "\t\t   *    Loading HTTomo version 2.3 *\n",
      "\t\t  *********************************************\n",
      "\n",
      "\n",
      "Loading httomo/2.3\n",
      "  Loading requirement: openmpi/4.1.5\n",
      "Currently Loaded Modulefiles:\n",
      " 1) use.own           5) global/directories      9) openmpi/4.1.5        \n",
      " 2) controls-tools    6) python/3.10(default)   10) httomo/2.3(default)  \n",
      " 3) controls          7) openmpi/4.1.6__cuda12  \n",
      " 4) epics/3.14.12.7   8) mamba/2.0.5(default)   \n",
      "\u001b[36mPipeline has been separated into 3 sections\u001b[0m\n",
      "See the full log file at: /dls/k11/data/2025/cm40627-1/tmp/live_recon/03-03-2025_14_44_18_output/user.log\n",
      "\u001b[32mRunning loader (pattern=projection): standard_tomo...\u001b[0m\n",
      "\u001b[35m    Finished loader: standard_tomo (httomo) Took 2016.01ms\u001b[0m\n",
      "\u001b[32mSection 0 (pattern=projection) with the following methods:\u001b[0m\n",
      "    data_reducer (httomolib)\n",
      "    find_center_vo (httomolibgpu)\n",
      "    remove_outlier (httomolibgpu)\n",
      "    normalize (httomolibgpu)\n",
      "     0%|          | 0/11 [00:00<?, ?block/s]\n",
      "     9%|9         | 1/11 [00:02<00:26,  2.68s/block]\n",
      "    18%|#8        | 2/11 [00:04<00:18,  2.01s/block]\n",
      "    27%|##7       | 3/11 [00:05<00:14,  1.79s/block]\n",
      "    36%|###6      | 4/11 [00:07<00:11,  1.69s/block]\n",
      "    45%|####5     | 5/11 [00:08<00:09,  1.63s/block]\n",
      "    55%|#####4    | 6/11 [00:10<00:07,  1.59s/block]\n",
      "    64%|######3   | 7/11 [00:11<00:06,  1.57s/block]\n",
      "    73%|#######2  | 8/11 [00:13<00:04,  1.55s/block]\n",
      "    82%|########1 | 9/11 [00:14<00:03,  1.54s/block]\n",
      "    91%|######### | 10/11 [00:15<00:01,  1.37s/block]\n",
      "\u001b[33m    --->The center of rotation is 309.5\u001b[0m\n",
      "\u001b[35m    Finished processing last block\u001b[0m\n",
      "\u001b[32mSection 1 (pattern=sinogram) with the following methods:\u001b[0m\n",
      "    remove_stripe_based_sorting (httomolibgpu)\n",
      "    FBP (httomolibgpu)\n",
      "    save_intermediate_data (httomo)\n",
      "    calculate_stats (httomo)\n",
      "     0%|          | 0/25 [00:00<?, ?block/s]\n",
      "     4%|4         | 1/25 [00:13<05:22, 13.43s/block]\n",
      "     8%|8         | 2/25 [00:26<05:03, 13.20s/block]\n",
      "    12%|#2        | 3/25 [00:39<04:48, 13.10s/block]\n",
      "    16%|#6        | 4/25 [00:52<04:31, 12.94s/block]\n",
      "    20%|##        | 5/25 [01:04<04:17, 12.88s/block]\n",
      "    24%|##4       | 6/25 [01:17<04:03, 12.83s/block]\n",
      "    28%|##8       | 7/25 [01:30<03:50, 12.80s/block]\n",
      "    32%|###2      | 8/25 [01:43<03:36, 12.74s/block]\n",
      "    36%|###6      | 9/25 [01:55<03:23, 12.70s/block]\n",
      "    40%|####      | 10/25 [02:08<03:09, 12.66s/block]\n",
      "    44%|####4     | 11/25 [02:20<02:57, 12.64s/block]\n",
      "    48%|####8     | 12/25 [02:33<02:44, 12.66s/block]\n",
      "    52%|#####2    | 13/25 [02:46<02:31, 12.63s/block]\n",
      "    56%|#####6    | 14/25 [02:58<02:19, 12.65s/block]\n",
      "    60%|######    | 15/25 [03:11<02:06, 12.68s/block]\n",
      "    64%|######4   | 16/25 [03:24<01:54, 12.70s/block]\n",
      "    68%|######8   | 17/25 [03:37<01:42, 12.83s/block]\n",
      "    72%|#######2  | 18/25 [03:50<01:29, 12.81s/block]\n",
      "    76%|#######6  | 19/25 [04:03<01:17, 12.88s/block]\n",
      "    80%|########  | 20/25 [04:16<01:04, 12.89s/block]\n",
      "    84%|########4 | 21/25 [04:28<00:51, 12.87s/block]\n",
      "    88%|########8 | 22/25 [04:41<00:38, 12.81s/block]\n",
      "    92%|#########2| 23/25 [04:54<00:25, 12.82s/block]\n",
      "    96%|#########6| 24/25 [05:07<00:12, 12.89s/block]\n",
      "\u001b[35m    Finished processing last block\u001b[0m\n",
      "\u001b[32mSection 2 (pattern=sinogram) with the following methods:\u001b[0m\n",
      "    rescale_to_int (httomolibgpu)\n",
      "    save_to_images (httomolib)\n",
      "     0%|          | 0/4 [00:00<?, ?block/s]\n",
      "    25%|##5       | 1/4 [00:02<00:06,  2.00s/block]\n",
      "    50%|#####     | 2/4 [00:04<00:04,  2.05s/block]\n",
      "    75%|#######5  | 3/4 [00:05<00:01,  1.88s/block]\n",
      "\u001b[35m    Finished processing last block\u001b[0m\n",
      "\u001b[31mPipeline finished. Took 340.792s\u001b[0m\n",
      "\n",
      "HtTomo Error: Ignoring PCI device with non-16bit domain.\n",
      "Pass --enable-32bits-pci-domain to configure to support such devices\n",
      "(warning: it would break the library ABI, don't enable unless really needed).\n",
      "\n",
      "END OF RECONSTRUCTION\n"
     ]
    }
   ],
   "source": [
    "output_path = f\"/dls/k11/data/{year}/{visit_number}/tmp/live_recon\"\n",
    "create_folder = f\"mkdir {output_path}\"\n",
    "\n",
    "httomo_load = 'module load openmpi && module load mamba && module load httomo && module list'\n",
    "httomo_reco = f\"python -m httomo run {browser.filepath} {editor.save_path} {output_path}\"\n",
    "\n",
    "try:\n",
    "    shutil.rmtree(output_path)\n",
    "except:\n",
    "    pass\n",
    "result = subprocess.run(f'{create_folder}', shell=True, capture_output=True, text=True)\n",
    "print(\"Destination Folder Output:\", result.stdout)\n",
    "print(\"Destination Folder Error:\", result.stderr)\n",
    "\n",
    "result = subprocess.run(f'{httomo_load} && {httomo_reco}', shell=True, capture_output=True, text=True)\n",
    "print(\"HtTomo Output:\", result.stdout)\n",
    "print(\"HtTomo Error:\", result.stderr)\n",
    "\n",
    "print('END OF RECONSTRUCTION')"
   ]
  },
  {
   "cell_type": "code",
   "execution_count": 7,
   "id": "36c00ea2-edcb-464c-90cc-a9712519d88b",
   "metadata": {},
   "outputs": [],
   "source": [
    "processed_data = None\n",
    "for root, dirs, files in os.walk(output_path):\n",
    "    for file in files:\n",
    "        if file.endswith(\".h5\"):\n",
    "            processed_data = os.path.join(root, file)\n",
    "            pass"
   ]
  },
  {
   "cell_type": "code",
   "execution_count": 8,
   "id": "c61ba18b-196e-4490-8c43-e5259f9b4d60",
   "metadata": {},
   "outputs": [
    {
     "data": {
      "application/vnd.jupyter.widget-view+json": {
       "model_id": "f2a62e73ccfe42f4934d142220e2c3ef",
       "version_major": 2,
       "version_minor": 0
      },
      "text/plain": [
       "HBox(children=(VBox(children=(Output(), IntSlider(value=500, description='Slice Index', max=639), FloatSlider(…"
      ]
     },
     "metadata": {},
     "output_type": "display_data"
    }
   ],
   "source": [
    "reconstruction = TomographyReconstruction(processed_data,14)"
   ]
  }
 ],
 "metadata": {
  "kernelspec": {
   "display_name": "Python 3 (ipykernel)",
   "language": "python",
   "name": "python3"
  },
  "language_info": {
   "codemirror_mode": {
    "name": "ipython",
    "version": 3
   },
   "file_extension": ".py",
   "mimetype": "text/x-python",
   "name": "python",
   "nbconvert_exporter": "python",
   "pygments_lexer": "ipython3",
   "version": "3.10.12"
  }
 },
 "nbformat": 4,
 "nbformat_minor": 5
}
